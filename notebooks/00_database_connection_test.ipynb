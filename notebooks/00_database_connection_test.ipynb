{
 "cells": [
  {
   "cell_type": "code",
   "execution_count": 2,
   "metadata": {},
   "outputs": [
    {
     "name": "stdout",
     "output_type": "stream",
     "text": [
      "(1, 18, 'POPLATEK MESICNE', '1995-03-24')\n",
      "(2, 1, 'POPLATEK MESICNE', '1993-02-26')\n",
      "(3, 5, 'POPLATEK MESICNE', '1997-07-07')\n",
      "(4, 12, 'POPLATEK MESICNE', '1996-02-21')\n",
      "(5, 15, 'POPLATEK MESICNE', '1997-05-30')\n",
      "(6, 51, 'POPLATEK MESICNE', '1994-09-27')\n",
      "(7, 60, 'POPLATEK MESICNE', '1996-11-24')\n",
      "(8, 57, 'POPLATEK MESICNE', '1995-09-21')\n",
      "(9, 70, 'POPLATEK MESICNE', '1993-01-27')\n",
      "(10, 54, 'POPLATEK MESICNE', '1996-08-28')\n",
      "(11, 76, 'POPLATEK MESICNE', '1995-10-10')\n",
      "(12, 21, 'POPLATEK MESICNE', '1997-04-15')\n",
      "(13, 76, 'POPLATEK MESICNE', '1997-08-17')\n",
      "(14, 47, 'POPLATEK MESICNE', '1996-11-27')\n"
     ]
    }
   ],
   "source": [
    "import pyodbc\n",
    "\n",
    "conn = pyodbc.connect('Driver={SQL Server};'\n",
    "                     'Server=JUANCARLOSRUIZA;'\n",
    "                     'Database=CzechBankingAnalysis;'\n",
    "                     'Trusted_Connection=yes;')\n",
    "\n",
    "cursor = conn.cursor()\n",
    "cursor.execute(\"SELECT TOP 14 * FROM Account\")  # Adjust table name if needed\n",
    "for row in cursor:\n",
    "    print(row)"
   ]
  },
  {
   "cell_type": "code",
   "execution_count": null,
   "metadata": {},
   "outputs": [],
   "source": []
  }
 ],
 "metadata": {
  "kernelspec": {
   "display_name": "venv",
   "language": "python",
   "name": "python3"
  },
  "language_info": {
   "codemirror_mode": {
    "name": "ipython",
    "version": 3
   },
   "file_extension": ".py",
   "mimetype": "text/x-python",
   "name": "python",
   "nbconvert_exporter": "python",
   "pygments_lexer": "ipython3",
   "version": "3.11.5"
  }
 },
 "nbformat": 4,
 "nbformat_minor": 2
}

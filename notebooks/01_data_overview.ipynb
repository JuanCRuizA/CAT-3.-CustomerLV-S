{
 "cells": [
  {
   "cell_type": "markdown",
   "metadata": {},
   "source": [
    "LIBRARIES AND CONNECTION"
   ]
  },
  {
   "cell_type": "code",
   "execution_count": 6,
   "metadata": {},
   "outputs": [],
   "source": [
    "import pandas as pd\n",
    "import numpy as np\n",
    "import matplotlib.pyplot as plt\n",
    "import seaborn as sns\n",
    "import pyodbc\n",
    "\n",
    "conn = pyodbc.connect('Driver={SQL Server};'\n",
    "                     'Server=JUANCARLOSRUIZA;'\n",
    "                     'Database=CzechBankingAnalysis;'\n",
    "                     'Trusted_Connection=yes;')\n"
   ]
  },
  {
   "cell_type": "markdown",
   "metadata": {},
   "source": [
    "DATE FORMAT VERIFICATION"
   ]
  },
  {
   "cell_type": "code",
   "execution_count": 11,
   "metadata": {},
   "outputs": [
    {
     "name": "stderr",
     "output_type": "stream",
     "text": [
      "C:\\Users\\carlo\\AppData\\Local\\Temp\\ipykernel_2924\\3523664159.py:13: UserWarning: pandas only supports SQLAlchemy connectable (engine/connection) or database string URI or sqlite3 DBAPI2 connection. Other DBAPI2 objects are not tested. Please consider using SQLAlchemy.\n",
      "  date_samples = pd.read_sql(date_format_query, conn)\n"
     ]
    },
    {
     "data": {
      "text/html": [
       "<div>\n",
       "<style scoped>\n",
       "    .dataframe tbody tr th:only-of-type {\n",
       "        vertical-align: middle;\n",
       "    }\n",
       "\n",
       "    .dataframe tbody tr th {\n",
       "        vertical-align: top;\n",
       "    }\n",
       "\n",
       "    .dataframe thead th {\n",
       "        text-align: right;\n",
       "    }\n",
       "</style>\n",
       "<table border=\"1\" class=\"dataframe\">\n",
       "  <thead>\n",
       "    <tr style=\"text-align: right;\">\n",
       "      <th></th>\n",
       "      <th>acc_date</th>\n",
       "      <th>iso_format</th>\n",
       "      <th>british_format</th>\n",
       "      <th>us_format</th>\n",
       "    </tr>\n",
       "  </thead>\n",
       "  <tbody>\n",
       "    <tr>\n",
       "      <th>0</th>\n",
       "      <td>1993-01-01</td>\n",
       "      <td>1993-01-01</td>\n",
       "      <td>01/01/1993</td>\n",
       "      <td>01/01/1993</td>\n",
       "    </tr>\n",
       "    <tr>\n",
       "      <th>1</th>\n",
       "      <td>1993-01-01</td>\n",
       "      <td>1993-01-01</td>\n",
       "      <td>01/01/1993</td>\n",
       "      <td>01/01/1993</td>\n",
       "    </tr>\n",
       "    <tr>\n",
       "      <th>2</th>\n",
       "      <td>1993-01-01</td>\n",
       "      <td>1993-01-01</td>\n",
       "      <td>01/01/1993</td>\n",
       "      <td>01/01/1993</td>\n",
       "    </tr>\n",
       "    <tr>\n",
       "      <th>3</th>\n",
       "      <td>1993-01-01</td>\n",
       "      <td>1993-01-01</td>\n",
       "      <td>01/01/1993</td>\n",
       "      <td>01/01/1993</td>\n",
       "    </tr>\n",
       "    <tr>\n",
       "      <th>4</th>\n",
       "      <td>1993-01-02</td>\n",
       "      <td>1993-01-02</td>\n",
       "      <td>02/01/1993</td>\n",
       "      <td>01/02/1993</td>\n",
       "    </tr>\n",
       "    <tr>\n",
       "      <th>5</th>\n",
       "      <td>1993-01-02</td>\n",
       "      <td>1993-01-02</td>\n",
       "      <td>02/01/1993</td>\n",
       "      <td>01/02/1993</td>\n",
       "    </tr>\n",
       "    <tr>\n",
       "      <th>6</th>\n",
       "      <td>1993-01-03</td>\n",
       "      <td>1993-01-03</td>\n",
       "      <td>03/01/1993</td>\n",
       "      <td>01/03/1993</td>\n",
       "    </tr>\n",
       "    <tr>\n",
       "      <th>7</th>\n",
       "      <td>1993-01-03</td>\n",
       "      <td>1993-01-03</td>\n",
       "      <td>03/01/1993</td>\n",
       "      <td>01/03/1993</td>\n",
       "    </tr>\n",
       "    <tr>\n",
       "      <th>8</th>\n",
       "      <td>1993-01-03</td>\n",
       "      <td>1993-01-03</td>\n",
       "      <td>03/01/1993</td>\n",
       "      <td>01/03/1993</td>\n",
       "    </tr>\n",
       "    <tr>\n",
       "      <th>9</th>\n",
       "      <td>1993-01-03</td>\n",
       "      <td>1993-01-03</td>\n",
       "      <td>03/01/1993</td>\n",
       "      <td>01/03/1993</td>\n",
       "    </tr>\n",
       "  </tbody>\n",
       "</table>\n",
       "</div>"
      ],
      "text/plain": [
       "     acc_date  iso_format british_format   us_format\n",
       "0  1993-01-01  1993-01-01     01/01/1993  01/01/1993\n",
       "1  1993-01-01  1993-01-01     01/01/1993  01/01/1993\n",
       "2  1993-01-01  1993-01-01     01/01/1993  01/01/1993\n",
       "3  1993-01-01  1993-01-01     01/01/1993  01/01/1993\n",
       "4  1993-01-02  1993-01-02     02/01/1993  01/02/1993\n",
       "5  1993-01-02  1993-01-02     02/01/1993  01/02/1993\n",
       "6  1993-01-03  1993-01-03     03/01/1993  01/03/1993\n",
       "7  1993-01-03  1993-01-03     03/01/1993  01/03/1993\n",
       "8  1993-01-03  1993-01-03     03/01/1993  01/03/1993\n",
       "9  1993-01-03  1993-01-03     03/01/1993  01/03/1993"
      ]
     },
     "metadata": {},
     "output_type": "display_data"
    },
    {
     "name": "stderr",
     "output_type": "stream",
     "text": [
      "C:\\Users\\carlo\\AppData\\Local\\Temp\\ipykernel_2924\\3523664159.py:27: UserWarning: pandas only supports SQLAlchemy connectable (engine/connection) or database string URI or sqlite3 DBAPI2 connection. Other DBAPI2 objects are not tested. Please consider using SQLAlchemy.\n",
      "  data_type_info = pd.read_sql(data_type_query, conn)\n"
     ]
    },
    {
     "data": {
      "text/html": [
       "<div>\n",
       "<style scoped>\n",
       "    .dataframe tbody tr th:only-of-type {\n",
       "        vertical-align: middle;\n",
       "    }\n",
       "\n",
       "    .dataframe tbody tr th {\n",
       "        vertical-align: top;\n",
       "    }\n",
       "\n",
       "    .dataframe thead th {\n",
       "        text-align: right;\n",
       "    }\n",
       "</style>\n",
       "<table border=\"1\" class=\"dataframe\">\n",
       "  <thead>\n",
       "    <tr style=\"text-align: right;\">\n",
       "      <th></th>\n",
       "      <th>COLUMN_NAME</th>\n",
       "      <th>DATA_TYPE</th>\n",
       "      <th>CHARACTER_MAXIMUM_LENGTH</th>\n",
       "    </tr>\n",
       "  </thead>\n",
       "  <tbody>\n",
       "    <tr>\n",
       "      <th>0</th>\n",
       "      <td>acc_date</td>\n",
       "      <td>date</td>\n",
       "      <td>None</td>\n",
       "    </tr>\n",
       "  </tbody>\n",
       "</table>\n",
       "</div>"
      ],
      "text/plain": [
       "  COLUMN_NAME DATA_TYPE CHARACTER_MAXIMUM_LENGTH\n",
       "0    acc_date      date                     None"
      ]
     },
     "metadata": {},
     "output_type": "display_data"
    }
   ],
   "source": [
    "# Check date format in Account table\n",
    "date_format_query = \"\"\"\n",
    "SELECT TOP 10 \n",
    "    acc_date,\n",
    "    CONVERT(VARCHAR, acc_date, 120) AS iso_format, -- ISO format: YYYY-MM-DD HH:MI:SS\n",
    "    CONVERT(VARCHAR, acc_date, 103) AS british_format, -- British/French format: DD/MM/YYYY\n",
    "    CONVERT(VARCHAR, acc_date, 101) AS us_format -- US format: MM/DD/YYYY\n",
    "FROM Account\n",
    "ORDER BY acc_date\n",
    "\"\"\"\n",
    "\n",
    "# Display sample of dates with different format conversions\n",
    "date_samples = pd.read_sql(date_format_query, conn)\n",
    "display(date_samples)\n",
    "\n",
    "# Get data type information\n",
    "data_type_query = \"\"\"\n",
    "SELECT \n",
    "    COLUMN_NAME,\n",
    "    DATA_TYPE,\n",
    "    CHARACTER_MAXIMUM_LENGTH\n",
    "FROM INFORMATION_SCHEMA.COLUMNS\n",
    "WHERE TABLE_NAME = 'Account' AND COLUMN_NAME = 'acc_date'\n",
    "\"\"\"\n",
    "\n",
    "# Display data type information\n",
    "data_type_info = pd.read_sql(data_type_query, conn)\n",
    "display(data_type_info)"
   ]
  },
  {
   "cell_type": "markdown",
   "metadata": {},
   "source": [
    "BASIC ACCOUNT STATISTICS"
   ]
  },
  {
   "cell_type": "code",
   "execution_count": 12,
   "metadata": {},
   "outputs": [
    {
     "name": "stderr",
     "output_type": "stream",
     "text": [
      "C:\\Users\\carlo\\AppData\\Local\\Temp\\ipykernel_2924\\3108404053.py:9: UserWarning: pandas only supports SQLAlchemy connectable (engine/connection) or database string URI or sqlite3 DBAPI2 connection. Other DBAPI2 objects are not tested. Please consider using SQLAlchemy.\n",
      "  account_stats = pd.read_sql(account_query, conn)\n"
     ]
    },
    {
     "data": {
      "text/html": [
       "<div>\n",
       "<style scoped>\n",
       "    .dataframe tbody tr th:only-of-type {\n",
       "        vertical-align: middle;\n",
       "    }\n",
       "\n",
       "    .dataframe tbody tr th {\n",
       "        vertical-align: top;\n",
       "    }\n",
       "\n",
       "    .dataframe thead th {\n",
       "        text-align: right;\n",
       "    }\n",
       "</style>\n",
       "<table border=\"1\" class=\"dataframe\">\n",
       "  <thead>\n",
       "    <tr style=\"text-align: right;\">\n",
       "      <th></th>\n",
       "      <th>account_count</th>\n",
       "      <th>earliest_date</th>\n",
       "      <th>latest_date</th>\n",
       "      <th>district_count</th>\n",
       "    </tr>\n",
       "  </thead>\n",
       "  <tbody>\n",
       "    <tr>\n",
       "      <th>0</th>\n",
       "      <td>4500</td>\n",
       "      <td>1993-01-01</td>\n",
       "      <td>1997-12-29</td>\n",
       "      <td>77</td>\n",
       "    </tr>\n",
       "  </tbody>\n",
       "</table>\n",
       "</div>"
      ],
      "text/plain": [
       "   account_count earliest_date latest_date  district_count\n",
       "0           4500    1993-01-01  1997-12-29              77"
      ]
     },
     "metadata": {},
     "output_type": "display_data"
    },
    {
     "name": "stderr",
     "output_type": "stream",
     "text": [
      "C:\\Users\\carlo\\AppData\\Local\\Temp\\ipykernel_2924\\3108404053.py:23: UserWarning: pandas only supports SQLAlchemy connectable (engine/connection) or database string URI or sqlite3 DBAPI2 connection. Other DBAPI2 objects are not tested. Please consider using SQLAlchemy.\n",
      "  transaction_volume = pd.read_sql(transaction_query, conn)\n"
     ]
    }
   ],
   "source": [
    "# Get basic account statistics\n",
    "account_query = \"\"\"\n",
    "SELECT COUNT(*) as account_count,\n",
    "       MIN(acc_date) as earliest_date,\n",
    "       MAX(acc_date) as latest_date,\n",
    "       COUNT(DISTINCT district_id) as district_count\n",
    "FROM Account\n",
    "\"\"\"\n",
    "account_stats = pd.read_sql(account_query, conn)\n",
    "display(account_stats)\n",
    "\n",
    "# Get transaction volume over time\n",
    "transaction_query = \"\"\"\n",
    "SELECT DATEPART(YEAR, Trans_date) as year,\n",
    "       DATEPART(MONTH, Trans_date) as month,\n",
    "       COUNT(*) as transaction_count,\n",
    "       SUM(amount) as total_amount,\n",
    "       AVG(amount) as avg_amount\n",
    "FROM Trans\n",
    "GROUP BY DATEPART(YEAR, Trans_date), DATEPART(MONTH, Trans_date)\n",
    "ORDER BY year, month\n",
    "\"\"\"\n",
    "transaction_volume = pd.read_sql(transaction_query, conn)\n"
   ]
  },
  {
   "cell_type": "markdown",
   "metadata": {},
   "source": [
    "VISUALIZATION"
   ]
  },
  {
   "cell_type": "code",
   "execution_count": 13,
   "metadata": {},
   "outputs": [
    {
     "data": {
      "image/png": "[encoded data removed]",
      "text/plain": [
       "<Figure size 1200x600 with 1 Axes>"
      ]
     },
     "metadata": {},
     "output_type": "display_data"
    }
   ],
   "source": [
    "# Visualize transaction volume\n",
    "plt.figure(figsize=(12, 6))\n",
    "plt.plot(range(len(transaction_volume)), transaction_volume['transaction_count'])\n",
    "plt.xticks(range(len(transaction_volume)), \n",
    "          [f\"{y}-{m}\" for y, m in zip(transaction_volume['year'], transaction_volume['month'])], \n",
    "          rotation=90)\n",
    "plt.title('Transaction Volume Over Time')\n",
    "plt.xlabel('Year-Month')\n",
    "plt.ylabel('Number of Transactions')\n",
    "plt.tight_layout()\n",
    "plt.show()\n"
   ]
  },
  {
   "cell_type": "markdown",
   "metadata": {},
   "source": [
    "# Conclusions from Initial Data Exploration\n",
    "\n",
    "1. **Account Data Overview**: The banking dataset contains 4,500 accounts spanning from January 1993 to December 1997 (approximately 5 years), distributed across 77 different districts. This provides a substantial time period for analyzing customer behavior patterns.\n",
    "\n",
    "2. **Date Format Consistency**: The account dates are stored in a standardized date format, which will facilitate time-based analysis. This is important for accurate calculations of customer recency metrics in our RFM analysis.\n",
    "\n",
    "3. **Transaction Pattern Visualization**: The transaction volume over time shows considerable fluctuation, with some noticeable peaks and valleys. This suggests seasonal or periodic transaction behavior that should be incorporated into our customer segmentation and lifetime value models."
   ]
  },
  {
   "cell_type": "code",
   "execution_count": null,
   "metadata": {},
   "outputs": [],
   "source": []
  }
 ],
 "metadata": {
  "kernelspec": {
   "display_name": "venv",
   "language": "python",
   "name": "python3"
  },
  "language_info": {
   "codemirror_mode": {
    "name": "ipython",
    "version": 3
   },
   "file_extension": ".py",
   "mimetype": "text/x-python",
   "name": "python",
   "nbconvert_exporter": "python",
   "pygments_lexer": "ipython3",
   "version": "3.11.5"
  }
 },
 "nbformat": 4,
 "nbformat_minor": 2
}
